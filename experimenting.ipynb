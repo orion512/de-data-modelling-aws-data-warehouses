{
 "cells": [
  {
   "cell_type": "code",
   "execution_count": null,
   "metadata": {},
   "outputs": [],
   "source": []
  },
  {
   "cell_type": "code",
   "execution_count": 2,
   "metadata": {},
   "outputs": [],
   "source": [
    "import boto3"
   ]
  },
  {
   "cell_type": "code",
   "execution_count": 6,
   "metadata": {},
   "outputs": [],
   "source": [
    "s3 = boto3.resource(\n",
    "    service_name='s3',\n",
    "    region_name='us-east-1',\n",
    "    # aws_access_key_id='mykey',\n",
    "    # aws_secret_access_key='mysecretkey'\n",
    ")"
   ]
  },
  {
   "cell_type": "code",
   "execution_count": 12,
   "metadata": {},
   "outputs": [
    {
     "ename": "ClientError",
     "evalue": "An error occurred (ExpiredToken) when calling the ListObjects operation: The provided token has expired.",
     "output_type": "error",
     "traceback": [
      "\u001b[1;31m---------------------------------------------------------------------------\u001b[0m",
      "\u001b[1;31mClientError\u001b[0m                               Traceback (most recent call last)",
      "Cell \u001b[1;32mIn [12], line 3\u001b[0m\n\u001b[0;32m      1\u001b[0m s3 \u001b[39m=\u001b[39m boto3\u001b[39m.\u001b[39mresource(\u001b[39m'\u001b[39m\u001b[39ms3\u001b[39m\u001b[39m'\u001b[39m, region_name\u001b[39m=\u001b[39m\u001b[39m\"\u001b[39m\u001b[39mus-west-2\u001b[39m\u001b[39m\"\u001b[39m)\n\u001b[0;32m      2\u001b[0m sampleDbBucket \u001b[39m=\u001b[39m  s3\u001b[39m.\u001b[39mBucket(\u001b[39m\"\u001b[39m\u001b[39mudacity-dend\u001b[39m\u001b[39m\"\u001b[39m)\n\u001b[1;32m----> 3\u001b[0m obj_list \u001b[39m=\u001b[39m \u001b[39mlist\u001b[39;49m(sampleDbBucket\u001b[39m.\u001b[39;49mobjects\u001b[39m.\u001b[39;49mfilter(Prefix\u001b[39m=\u001b[39;49m\u001b[39m'\u001b[39;49m\u001b[39msong_data\u001b[39;49m\u001b[39m'\u001b[39;49m))\n\u001b[0;32m      4\u001b[0m obj_list\n",
      "File \u001b[1;32mc:\\Users\\Dominik\\Documents\\Projects\\de-data-modelling-aws-data-warehouses\\venv\\lib\\site-packages\\boto3\\resources\\collection.py:81\u001b[0m, in \u001b[0;36mResourceCollection.__iter__\u001b[1;34m(self)\u001b[0m\n\u001b[0;32m     78\u001b[0m limit \u001b[39m=\u001b[39m \u001b[39mself\u001b[39m\u001b[39m.\u001b[39m_params\u001b[39m.\u001b[39mget(\u001b[39m'\u001b[39m\u001b[39mlimit\u001b[39m\u001b[39m'\u001b[39m, \u001b[39mNone\u001b[39;00m)\n\u001b[0;32m     80\u001b[0m count \u001b[39m=\u001b[39m \u001b[39m0\u001b[39m\n\u001b[1;32m---> 81\u001b[0m \u001b[39mfor\u001b[39;00m page \u001b[39min\u001b[39;00m \u001b[39mself\u001b[39m\u001b[39m.\u001b[39mpages():\n\u001b[0;32m     82\u001b[0m     \u001b[39mfor\u001b[39;00m item \u001b[39min\u001b[39;00m page:\n\u001b[0;32m     83\u001b[0m         \u001b[39myield\u001b[39;00m item\n",
      "File \u001b[1;32mc:\\Users\\Dominik\\Documents\\Projects\\de-data-modelling-aws-data-warehouses\\venv\\lib\\site-packages\\boto3\\resources\\collection.py:171\u001b[0m, in \u001b[0;36mResourceCollection.pages\u001b[1;34m(self)\u001b[0m\n\u001b[0;32m    168\u001b[0m \u001b[39m# Now that we have a page iterator or single page of results\u001b[39;00m\n\u001b[0;32m    169\u001b[0m \u001b[39m# we start processing and yielding individual items.\u001b[39;00m\n\u001b[0;32m    170\u001b[0m count \u001b[39m=\u001b[39m \u001b[39m0\u001b[39m\n\u001b[1;32m--> 171\u001b[0m \u001b[39mfor\u001b[39;00m page \u001b[39min\u001b[39;00m pages:\n\u001b[0;32m    172\u001b[0m     page_items \u001b[39m=\u001b[39m []\n\u001b[0;32m    173\u001b[0m     \u001b[39mfor\u001b[39;00m item \u001b[39min\u001b[39;00m \u001b[39mself\u001b[39m\u001b[39m.\u001b[39m_handler(\u001b[39mself\u001b[39m\u001b[39m.\u001b[39m_parent, params, page):\n",
      "File \u001b[1;32mc:\\Users\\Dominik\\Documents\\Projects\\de-data-modelling-aws-data-warehouses\\venv\\lib\\site-packages\\botocore\\paginate.py:269\u001b[0m, in \u001b[0;36mPageIterator.__iter__\u001b[1;34m(self)\u001b[0m\n\u001b[0;32m    267\u001b[0m \u001b[39mself\u001b[39m\u001b[39m.\u001b[39m_inject_starting_params(current_kwargs)\n\u001b[0;32m    268\u001b[0m \u001b[39mwhile\u001b[39;00m \u001b[39mTrue\u001b[39;00m:\n\u001b[1;32m--> 269\u001b[0m     response \u001b[39m=\u001b[39m \u001b[39mself\u001b[39;49m\u001b[39m.\u001b[39;49m_make_request(current_kwargs)\n\u001b[0;32m    270\u001b[0m     parsed \u001b[39m=\u001b[39m \u001b[39mself\u001b[39m\u001b[39m.\u001b[39m_extract_parsed_response(response)\n\u001b[0;32m    271\u001b[0m     \u001b[39mif\u001b[39;00m first_request:\n\u001b[0;32m    272\u001b[0m         \u001b[39m# The first request is handled differently.  We could\u001b[39;00m\n\u001b[0;32m    273\u001b[0m         \u001b[39m# possibly have a resume/starting token that tells us where\u001b[39;00m\n\u001b[0;32m    274\u001b[0m         \u001b[39m# to index into the retrieved page.\u001b[39;00m\n",
      "File \u001b[1;32mc:\\Users\\Dominik\\Documents\\Projects\\de-data-modelling-aws-data-warehouses\\venv\\lib\\site-packages\\botocore\\paginate.py:357\u001b[0m, in \u001b[0;36mPageIterator._make_request\u001b[1;34m(self, current_kwargs)\u001b[0m\n\u001b[0;32m    356\u001b[0m \u001b[39mdef\u001b[39;00m \u001b[39m_make_request\u001b[39m(\u001b[39mself\u001b[39m, current_kwargs):\n\u001b[1;32m--> 357\u001b[0m     \u001b[39mreturn\u001b[39;00m \u001b[39mself\u001b[39m\u001b[39m.\u001b[39m_method(\u001b[39m*\u001b[39m\u001b[39m*\u001b[39mcurrent_kwargs)\n",
      "File \u001b[1;32mc:\\Users\\Dominik\\Documents\\Projects\\de-data-modelling-aws-data-warehouses\\venv\\lib\\site-packages\\botocore\\client.py:515\u001b[0m, in \u001b[0;36mClientCreator._create_api_method.<locals>._api_call\u001b[1;34m(self, *args, **kwargs)\u001b[0m\n\u001b[0;32m    511\u001b[0m     \u001b[39mraise\u001b[39;00m \u001b[39mTypeError\u001b[39;00m(\n\u001b[0;32m    512\u001b[0m         \u001b[39mf\u001b[39m\u001b[39m\"\u001b[39m\u001b[39m{\u001b[39;00mpy_operation_name\u001b[39m}\u001b[39;00m\u001b[39m() only accepts keyword arguments.\u001b[39m\u001b[39m\"\u001b[39m\n\u001b[0;32m    513\u001b[0m     )\n\u001b[0;32m    514\u001b[0m \u001b[39m# The \"self\" in this scope is referring to the BaseClient.\u001b[39;00m\n\u001b[1;32m--> 515\u001b[0m \u001b[39mreturn\u001b[39;00m \u001b[39mself\u001b[39;49m\u001b[39m.\u001b[39;49m_make_api_call(operation_name, kwargs)\n",
      "File \u001b[1;32mc:\\Users\\Dominik\\Documents\\Projects\\de-data-modelling-aws-data-warehouses\\venv\\lib\\site-packages\\botocore\\client.py:934\u001b[0m, in \u001b[0;36mBaseClient._make_api_call\u001b[1;34m(self, operation_name, api_params)\u001b[0m\n\u001b[0;32m    932\u001b[0m     error_code \u001b[39m=\u001b[39m parsed_response\u001b[39m.\u001b[39mget(\u001b[39m\"\u001b[39m\u001b[39mError\u001b[39m\u001b[39m\"\u001b[39m, {})\u001b[39m.\u001b[39mget(\u001b[39m\"\u001b[39m\u001b[39mCode\u001b[39m\u001b[39m\"\u001b[39m)\n\u001b[0;32m    933\u001b[0m     error_class \u001b[39m=\u001b[39m \u001b[39mself\u001b[39m\u001b[39m.\u001b[39mexceptions\u001b[39m.\u001b[39mfrom_code(error_code)\n\u001b[1;32m--> 934\u001b[0m     \u001b[39mraise\u001b[39;00m error_class(parsed_response, operation_name)\n\u001b[0;32m    935\u001b[0m \u001b[39melse\u001b[39;00m:\n\u001b[0;32m    936\u001b[0m     \u001b[39mreturn\u001b[39;00m parsed_response\n",
      "\u001b[1;31mClientError\u001b[0m: An error occurred (ExpiredToken) when calling the ListObjects operation: The provided token has expired."
     ]
    }
   ],
   "source": [
    "s3 = boto3.resource('s3', region_name=\"us-west-2\")  # update creds\n",
    "sampleDbBucket =  s3.Bucket(\"udacity-dend\")\n",
    "obj_list = list(sampleDbBucket.objects.filter(Prefix='song_data'))\n",
    "obj_list"
   ]
  },
  {
   "cell_type": "markdown",
   "metadata": {},
   "source": [
    "You can also browse the S3 bucket online by appending its name (udacity-dend) to this URL: https://s3.console.aws.amazon.com/s3/buckets/ as mentioned by another course participant.\n",
    "\n",
    "1. Make sure you are logged into AWS.\n",
    "\n",
    "2. Visit https://s3.console.aws.amazon.com/s3/buckets/udacity-dend"
   ]
  }
 ],
 "metadata": {
  "kernelspec": {
   "display_name": "Python 3.10.4 ('venv': venv)",
   "language": "python",
   "name": "python3"
  },
  "language_info": {
   "codemirror_mode": {
    "name": "ipython",
    "version": 3
   },
   "file_extension": ".py",
   "mimetype": "text/x-python",
   "name": "python",
   "nbconvert_exporter": "python",
   "pygments_lexer": "ipython3",
   "version": "3.10.4"
  },
  "orig_nbformat": 4,
  "vscode": {
   "interpreter": {
    "hash": "55d436a7aff08a81da08d95a252cd3560b32ccc3aa585af70ad9b786c703f418"
   }
  }
 },
 "nbformat": 4,
 "nbformat_minor": 2
}
